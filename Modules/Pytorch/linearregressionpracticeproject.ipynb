{
 "cells": [
  {
   "cell_type": "code",
   "execution_count": 14,
   "source": [
    "# dataset taken from https://jovian.ai/aakashns/02-linear-regression\r\n",
    "\r\n",
    "import torch\r\n",
    "import numpy as np\r\n",
    "\r\n",
    "#Input Data\r\n",
    "#(rainfalls, humidity, temp)\r\n",
    "inputs = np.array([[73, 67, 43], \r\n",
    "                   [91, 88, 64], \r\n",
    "                   [87, 134, 58], \r\n",
    "                   [102, 43, 37], \r\n",
    "                   [69, 96, 70]], dtype='float32')\r\n",
    "\r\n",
    "#quantity of apples and oranges\r\n",
    "targets = np.array([[56, 70], \r\n",
    "                    [81, 101], \r\n",
    "                    [119, 133], \r\n",
    "                    [22, 37], \r\n",
    "                    [103, 119]], dtype='float32')\r\n",
    "\r\n",
    "inputs = torch.from_numpy(inputs)\r\n",
    "\r\n",
    "targets = torch.from_numpy(targets)\r\n",
    "\r\n",
    "w = torch.randn(2, 3, requires_grad=True)\r\n",
    "b = torch.randn(2, requires_grad=True)\r\n",
    "\r\n",
    "def model(x):\r\n",
    "    return x @ w.t() + b\r\n",
    "\r\n",
    "\r\n",
    "def mse(t1,t2):\r\n",
    "    diff = t1 - t2\r\n",
    "    \r\n",
    "    return torch.sum(diff * diff) / diff.numel()\r\n",
    "\r\n",
    "\r\n",
    "    \r\n",
    "for epoch in range(500):\r\n",
    "    preds = model(inputs)\r\n",
    "    loss = mse(preds, targets)\r\n",
    "    loss.backward()\r\n",
    "    with torch.no_grad():\r\n",
    "        w -= w.grad * 1e-5\r\n",
    "        b -= b.grad * 1e-5\r\n",
    "        w.grad.zero_()\r\n",
    "        b.grad.zero_()\r\n",
    "\r\n",
    "preds = model(inputs)\r\n",
    "loss = mse(preds, targets)\r\n",
    "\r\n",
    "print(preds)\r\n",
    "print(targets)\r\n",
    "    \r\n",
    "    "
   ],
   "outputs": [
    {
     "output_type": "stream",
     "name": "stdout",
     "text": [
      "tensor([[ 58.0765,  69.9983],\n",
      "        [ 78.2163, 100.2526],\n",
      "        [126.3027, 134.4071],\n",
      "        [ 26.2545,  35.3657],\n",
      "        [ 91.8903, 119.3381]], grad_fn=<AddBackward0>)\n",
      "tensor([[ 56.,  70.],\n",
      "        [ 81., 101.],\n",
      "        [119., 133.],\n",
      "        [ 22.,  37.],\n",
      "        [103., 119.]])\n"
     ]
    }
   ],
   "metadata": {}
  }
 ],
 "metadata": {
  "orig_nbformat": 4,
  "language_info": {
   "name": "python"
  }
 },
 "nbformat": 4,
 "nbformat_minor": 2
}