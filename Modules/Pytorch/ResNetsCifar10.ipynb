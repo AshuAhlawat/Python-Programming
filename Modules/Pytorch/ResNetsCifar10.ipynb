{
  "nbformat": 4,
  "nbformat_minor": 0,
  "metadata": {
    "accelerator": "GPU",
    "colab": {
      "name": "ResNetsCifar10.ipynb",
      "provenance": []
    },
    "kernelspec": {
      "display_name": "Python 3",
      "name": "python3"
    },
    "language_info": {
      "name": "python"
    }
  },
  "cells": [
    {
      "cell_type": "code",
      "metadata": {
        "colab": {
          "base_uri": "https://localhost:8080/"
        },
        "id": "I3juRB3iD3hB",
        "outputId": "63ad65b6-9df2-4760-b069-34af128c6cbf"
      },
      "source": [
        "from google.colab import drive\n",
        "drive.mount('/gdrive')"
      ],
      "execution_count": 1,
      "outputs": [
        {
          "output_type": "stream",
          "name": "stdout",
          "text": [
            "Mounted at /gdrive\n"
          ]
        }
      ]
    },
    {
      "cell_type": "code",
      "metadata": {
        "id": "ZrtSJ3SlFCfl"
      },
      "source": [
        "import tarfile"
      ],
      "execution_count": 2,
      "outputs": []
    },
    {
      "cell_type": "code",
      "metadata": {
        "id": "E2Tpw4BvFSfc"
      },
      "source": [
        "tarfile_path = r\"/gdrive/MyDrive/cifar10.tgz\"\n",
        "with tarfile.open(tarfile_path, 'r:gz') as t:\n",
        "    t.extractall('./data')"
      ],
      "execution_count": 3,
      "outputs": []
    },
    {
      "cell_type": "code",
      "metadata": {
        "id": "rdQgY09uGQw2"
      },
      "source": [
        "import os"
      ],
      "execution_count": 4,
      "outputs": []
    },
    {
      "cell_type": "code",
      "metadata": {
        "colab": {
          "base_uri": "https://localhost:8080/"
        },
        "id": "oAjg4_lQGR7U",
        "outputId": "b9464c01-5ea6-4ca0-86f8-5858ab64294a"
      },
      "source": [
        "os_path = './data/cifar10'\n",
        "os.listdir(os_path)"
      ],
      "execution_count": 5,
      "outputs": [
        {
          "output_type": "execute_result",
          "data": {
            "text/plain": [
              "['train', 'test']"
            ]
          },
          "metadata": {},
          "execution_count": 5
        }
      ]
    },
    {
      "cell_type": "code",
      "metadata": {
        "id": "2eSazqp6Gimj"
      },
      "source": [
        "train_path = os_path + '/train'\n",
        "test_path = os_path + '/test'"
      ],
      "execution_count": 6,
      "outputs": []
    },
    {
      "cell_type": "code",
      "metadata": {
        "id": "IiuF3UMfG2jM"
      },
      "source": [
        "import torchvision.transforms as tt\n",
        "from torchvision.datasets import ImageFolder"
      ],
      "execution_count": 7,
      "outputs": []
    },
    {
      "cell_type": "code",
      "metadata": {
        "id": "DLRWBd9oHPmL"
      },
      "source": [
        "stats = ((0.4914, 0.4822, 0.4465), (0.247, 0.2435, 0.2616))\n",
        "train_data_tt = tt.Compose([tt.RandomCrop(32, padding=4, padding_mode = 'reflect'),\n",
        "                            tt.RandomHorizontalFlip(), tt.ToTensor(),tt.Normalize(*stats)])\n",
        "test_data_tt = tt.Compose([tt.ToTensor(),tt.Normalize(*stats)])"
      ],
      "execution_count": 8,
      "outputs": []
    },
    {
      "cell_type": "code",
      "metadata": {
        "id": "FLtBL-yYJoLV"
      },
      "source": [
        "train_ds = ImageFolder(train_path, train_data_tt)\n",
        "test_ds = ImageFolder(test_path, test_data_tt)"
      ],
      "execution_count": 9,
      "outputs": []
    },
    {
      "cell_type": "code",
      "metadata": {
        "id": "CMN5VYO9XWOL"
      },
      "source": [
        "from torch.utils.data import DataLoader"
      ],
      "execution_count": 10,
      "outputs": []
    },
    {
      "cell_type": "code",
      "metadata": {
        "id": "o3qkF_taXi9b"
      },
      "source": [
        "train_dl = DataLoader(train_ds, batch_size=200, shuffle=True,pin_memory=True)\n",
        "test_dl = DataLoader(test_ds, batch_size=200, pin_memory=True)"
      ],
      "execution_count": 11,
      "outputs": []
    },
    {
      "cell_type": "code",
      "metadata": {
        "id": "v0jikx92Kvpk"
      },
      "source": [
        "import torch\n",
        "import torch.nn as nn\n",
        "import torch.nn.functional as F"
      ],
      "execution_count": 12,
      "outputs": []
    },
    {
      "cell_type": "code",
      "metadata": {
        "id": "SnHmtDREG6Mv"
      },
      "source": [
        "class resnet12(nn.Module):\n",
        "    def __init__(self):\n",
        "        super().__init__()\n",
        "        self.conv3t12 = nn.Conv2d(3,12, kernel_size=3, stride=1, padding=1)\n",
        "        \n",
        "        self.conv12t48 = nn.Conv2d(12,48, kernel_size=3, stride=1, padding=1)\n",
        "        \n",
        "        self.conv48t96 = nn.Conv2d(48,96, kernel_size=3, stride=1, padding=1)\n",
        "        self.conv96t96a = nn.Conv2d(96,96, kernel_size=3, stride=1, padding=1)\n",
        "        \n",
        "        self.conv96t192 = nn.Conv2d(96,192, kernel_size=3, stride=1, padding=1)\n",
        "        self.conv192t192a = nn.Conv2d(192,192, kernel_size=3, stride=1, padding=1)\n",
        "        self.conv192t192b = nn.Conv2d(192,192, kernel_size=3, stride=1, padding=1)\n",
        "        self.conv192t192c = nn.Conv2d(192,192, kernel_size=3, stride=1, padding=1)\n",
        "        \n",
        "        self.conv192t384 = nn.Conv2d(192,384,kernel_size=3,stride=1, padding=1)\n",
        "        self.conv384t384a = nn.Conv2d(384,384, kernel_size=3, stride=1, padding=1)\n",
        "        self.conv384t384b = nn.Conv2d(384,384, kernel_size=3, stride=1, padding=1)\n",
        "        self.conv384t384c = nn.Conv2d(384,384, kernel_size=3, stride=1, padding=1)\n",
        "        \n",
        "        self.pool = nn.MaxPool2d(2,2)\n",
        "        \n",
        "        self.norm12 = nn.BatchNorm2d(12)\n",
        "        self.norm48 = nn.BatchNorm2d(48)\n",
        "        self.norm96 = nn.BatchNorm2d(96)\n",
        "        self.norm192 = nn.BatchNorm2d(192)\n",
        "        self.norm384 = nn.BatchNorm2d(384)\n",
        "        \n",
        "        self.relu = nn.ReLU()\n",
        "        \n",
        "        self.adpool = nn.AdaptiveAvgPool2d(1) \n",
        "        \n",
        "        # self.drop = nn.Dropout(0.2)\n",
        "                                         \n",
        "        self.linear = nn.Linear(384, 10)\n",
        "        \n",
        "        self.flat = nn.Flatten()\n",
        "        \n",
        "    \n",
        "    def forward(self,x):\n",
        "        out = self.conv3t12(x) # 32x 32  12\n",
        "        out = self.norm12(out)\n",
        "        out = self.relu(out)\n",
        "        out = self.conv12t48(out) # 32 x32  48\n",
        "        out = self.norm48(out)\n",
        "        out = self.relu(out)\n",
        "        out = self.pool(out) #16x16  48\n",
        "        \n",
        "        out = self.conv48t96(out)  # 16x 16 96\n",
        "        out = self.norm96(out)\n",
        "        y = out\n",
        "        out = self.relu(out)\n",
        "        out = self.conv96t96a(out) # 16x 16 96\n",
        "        out= self.relu(out+y)\n",
        "        out = self.pool(out) # 8x8 96\n",
        "        \n",
        "        out = self.conv96t192(out) # 8x8 192\n",
        "        out = self.norm192(out)\n",
        "        y = out\n",
        "        out = self.relu(out)\n",
        "        out = self.conv192t192a(out)\n",
        "        out = self.relu(out+y)\n",
        "        out = self.conv192t192b(out)\n",
        "        out = self.relu(out+y)\n",
        "        out = self.conv192t192c(out)\n",
        "        out = self.relu(out+y)\n",
        "        \n",
        "        out = self.conv192t384(out)\n",
        "        out = self.norm384(out)\n",
        "        y = out\n",
        "        out = self.relu(out)\n",
        "        out = self.conv384t384a(out)\n",
        "        out = self.relu(out+y)\n",
        "        out = self.conv384t384b(out)\n",
        "        out = self.relu(out+y)\n",
        "        out = self.conv384t384c(out)\n",
        "        out = self.relu(out)\n",
        "        \n",
        "        \n",
        "        out = self.adpool(out)\n",
        "        out = self.flat(out)\n",
        "        # out = self.drop(out)\n",
        "        out = self.linear(out)\n",
        "        # out = torch.softmax(out, dim=-1)\n",
        "        \n",
        "        return out\n"
      ],
      "execution_count": 22,
      "outputs": []
    },
    {
      "cell_type": "code",
      "metadata": {
        "id": "OoWMA-VQkxZ9"
      },
      "source": [
        "model = resnet12()"
      ],
      "execution_count": 23,
      "outputs": []
    },
    {
      "cell_type": "code",
      "metadata": {
        "id": "kfpcFHlA3zhw"
      },
      "source": [
        "from fastai.basic_data import DataBunch\n",
        "from fastai.train import Learner\n",
        "from fastai.metrics import accuracy"
      ],
      "execution_count": 20,
      "outputs": []
    },
    {
      "cell_type": "code",
      "metadata": {
        "id": "VPV6-1PTkQDQ",
        "colab": {
          "base_uri": "https://localhost:8080/",
          "height": 667
        },
        "outputId": "34410202-44d5-4223-d243-65e4eb0f9a45"
      },
      "source": [
        "data = DataBunch.create(train_ds,valid_ds=test_ds, bs=200, path='./data/cifar10')\n",
        "learner = Learner(data, model, loss_func=F.cross_entropy, metrics=[accuracy])\n",
        "learner.clip = 0.1\n",
        "learner.fit_one_cycle(20,3e-3)"
      ],
      "execution_count": 26,
      "outputs": [
        {
          "output_type": "display_data",
          "data": {
            "text/html": [
              "<table border=\"1\" class=\"dataframe\">\n",
              "  <thead>\n",
              "    <tr style=\"text-align: left;\">\n",
              "      <th>epoch</th>\n",
              "      <th>train_loss</th>\n",
              "      <th>valid_loss</th>\n",
              "      <th>accuracy</th>\n",
              "      <th>time</th>\n",
              "    </tr>\n",
              "  </thead>\n",
              "  <tbody>\n",
              "    <tr>\n",
              "      <td>0</td>\n",
              "      <td>0.181036</td>\n",
              "      <td>0.319379</td>\n",
              "      <td>0.899300</td>\n",
              "      <td>00:53</td>\n",
              "    </tr>\n",
              "    <tr>\n",
              "      <td>1</td>\n",
              "      <td>0.182017</td>\n",
              "      <td>0.362435</td>\n",
              "      <td>0.892200</td>\n",
              "      <td>00:53</td>\n",
              "    </tr>\n",
              "    <tr>\n",
              "      <td>2</td>\n",
              "      <td>0.227153</td>\n",
              "      <td>0.373929</td>\n",
              "      <td>0.880500</td>\n",
              "      <td>00:52</td>\n",
              "    </tr>\n",
              "    <tr>\n",
              "      <td>3</td>\n",
              "      <td>0.265192</td>\n",
              "      <td>0.440050</td>\n",
              "      <td>0.863600</td>\n",
              "      <td>00:53</td>\n",
              "    </tr>\n",
              "    <tr>\n",
              "      <td>4</td>\n",
              "      <td>0.294153</td>\n",
              "      <td>0.487105</td>\n",
              "      <td>0.844400</td>\n",
              "      <td>00:53</td>\n",
              "    </tr>\n",
              "    <tr>\n",
              "      <td>5</td>\n",
              "      <td>0.297262</td>\n",
              "      <td>0.560754</td>\n",
              "      <td>0.832500</td>\n",
              "      <td>00:52</td>\n",
              "    </tr>\n",
              "    <tr>\n",
              "      <td>6</td>\n",
              "      <td>0.295943</td>\n",
              "      <td>0.421338</td>\n",
              "      <td>0.865600</td>\n",
              "      <td>00:53</td>\n",
              "    </tr>\n",
              "    <tr>\n",
              "      <td>7</td>\n",
              "      <td>0.281501</td>\n",
              "      <td>0.443382</td>\n",
              "      <td>0.863900</td>\n",
              "      <td>00:53</td>\n",
              "    </tr>\n",
              "    <tr>\n",
              "      <td>8</td>\n",
              "      <td>0.252355</td>\n",
              "      <td>0.446264</td>\n",
              "      <td>0.861900</td>\n",
              "      <td>00:53</td>\n",
              "    </tr>\n",
              "    <tr>\n",
              "      <td>9</td>\n",
              "      <td>0.233744</td>\n",
              "      <td>0.392871</td>\n",
              "      <td>0.876400</td>\n",
              "      <td>00:52</td>\n",
              "    </tr>\n",
              "    <tr>\n",
              "      <td>10</td>\n",
              "      <td>0.209840</td>\n",
              "      <td>0.365425</td>\n",
              "      <td>0.887600</td>\n",
              "      <td>00:53</td>\n",
              "    </tr>\n",
              "    <tr>\n",
              "      <td>11</td>\n",
              "      <td>0.178994</td>\n",
              "      <td>0.382485</td>\n",
              "      <td>0.887700</td>\n",
              "      <td>00:53</td>\n",
              "    </tr>\n",
              "    <tr>\n",
              "      <td>12</td>\n",
              "      <td>0.154244</td>\n",
              "      <td>0.353629</td>\n",
              "      <td>0.895900</td>\n",
              "      <td>00:53</td>\n",
              "    </tr>\n",
              "    <tr>\n",
              "      <td>13</td>\n",
              "      <td>0.127269</td>\n",
              "      <td>0.343370</td>\n",
              "      <td>0.902900</td>\n",
              "      <td>00:53</td>\n",
              "    </tr>\n",
              "    <tr>\n",
              "      <td>14</td>\n",
              "      <td>0.100413</td>\n",
              "      <td>0.358813</td>\n",
              "      <td>0.903400</td>\n",
              "      <td>00:53</td>\n",
              "    </tr>\n",
              "    <tr>\n",
              "      <td>15</td>\n",
              "      <td>0.078266</td>\n",
              "      <td>0.374131</td>\n",
              "      <td>0.907100</td>\n",
              "      <td>00:53</td>\n",
              "    </tr>\n",
              "    <tr>\n",
              "      <td>16</td>\n",
              "      <td>0.065547</td>\n",
              "      <td>0.356310</td>\n",
              "      <td>0.911800</td>\n",
              "      <td>00:53</td>\n",
              "    </tr>\n",
              "    <tr>\n",
              "      <td>17</td>\n",
              "      <td>0.051059</td>\n",
              "      <td>0.356214</td>\n",
              "      <td>0.913700</td>\n",
              "      <td>00:53</td>\n",
              "    </tr>\n",
              "    <tr>\n",
              "      <td>18</td>\n",
              "      <td>0.047110</td>\n",
              "      <td>0.355531</td>\n",
              "      <td>0.916400</td>\n",
              "      <td>00:53</td>\n",
              "    </tr>\n",
              "    <tr>\n",
              "      <td>19</td>\n",
              "      <td>0.041756</td>\n",
              "      <td>0.357395</td>\n",
              "      <td>0.916500</td>\n",
              "      <td>00:53</td>\n",
              "    </tr>\n",
              "  </tbody>\n",
              "</table>"
            ],
            "text/plain": [
              "<IPython.core.display.HTML object>"
            ]
          },
          "metadata": {}
        }
      ]
    },
    {
      "cell_type": "code",
      "metadata": {
        "id": "VckEyGiwEZPv"
      },
      "source": [
        "torch.save(model.state_dict(), '/gdrive/MyDrive/cifar10resnet.pth')"
      ],
      "execution_count": 27,
      "outputs": []
    },
    {
      "cell_type": "code",
      "metadata": {
        "id": "mdckJghgYP_U"
      },
      "source": [
        "device = torch.device('cuda' if torch.cuda.is_available() else 'cpu')"
      ],
      "execution_count": 31,
      "outputs": []
    },
    {
      "cell_type": "code",
      "metadata": {
        "colab": {
          "base_uri": "https://localhost:8080/"
        },
        "id": "DEScfUbZZmQe",
        "outputId": "7e463691-abae-4715-f4ea-0565406964d0"
      },
      "source": [
        "model.to(device)"
      ],
      "execution_count": 37,
      "outputs": [
        {
          "output_type": "execute_result",
          "data": {
            "text/plain": [
              "resnet12(\n",
              "  (conv3t12): Conv2d(3, 12, kernel_size=(3, 3), stride=(1, 1), padding=(1, 1))\n",
              "  (conv12t48): Conv2d(12, 48, kernel_size=(3, 3), stride=(1, 1), padding=(1, 1))\n",
              "  (conv48t96): Conv2d(48, 96, kernel_size=(3, 3), stride=(1, 1), padding=(1, 1))\n",
              "  (conv96t96a): Conv2d(96, 96, kernel_size=(3, 3), stride=(1, 1), padding=(1, 1))\n",
              "  (conv96t192): Conv2d(96, 192, kernel_size=(3, 3), stride=(1, 1), padding=(1, 1))\n",
              "  (conv192t192a): Conv2d(192, 192, kernel_size=(3, 3), stride=(1, 1), padding=(1, 1))\n",
              "  (conv192t192b): Conv2d(192, 192, kernel_size=(3, 3), stride=(1, 1), padding=(1, 1))\n",
              "  (conv192t192c): Conv2d(192, 192, kernel_size=(3, 3), stride=(1, 1), padding=(1, 1))\n",
              "  (conv192t384): Conv2d(192, 384, kernel_size=(3, 3), stride=(1, 1), padding=(1, 1))\n",
              "  (conv384t384a): Conv2d(384, 384, kernel_size=(3, 3), stride=(1, 1), padding=(1, 1))\n",
              "  (conv384t384b): Conv2d(384, 384, kernel_size=(3, 3), stride=(1, 1), padding=(1, 1))\n",
              "  (conv384t384c): Conv2d(384, 384, kernel_size=(3, 3), stride=(1, 1), padding=(1, 1))\n",
              "  (pool): MaxPool2d(kernel_size=2, stride=2, padding=0, dilation=1, ceil_mode=False)\n",
              "  (norm12): BatchNorm2d(12, eps=1e-05, momentum=0.1, affine=True, track_running_stats=True)\n",
              "  (norm48): BatchNorm2d(48, eps=1e-05, momentum=0.1, affine=True, track_running_stats=True)\n",
              "  (norm96): BatchNorm2d(96, eps=1e-05, momentum=0.1, affine=True, track_running_stats=True)\n",
              "  (norm192): BatchNorm2d(192, eps=1e-05, momentum=0.1, affine=True, track_running_stats=True)\n",
              "  (norm384): BatchNorm2d(384, eps=1e-05, momentum=0.1, affine=True, track_running_stats=True)\n",
              "  (relu): ReLU()\n",
              "  (adpool): AdaptiveAvgPool2d(output_size=1)\n",
              "  (linear): Linear(in_features=384, out_features=10, bias=True)\n",
              "  (flat): Flatten(start_dim=1, end_dim=-1)\n",
              ")"
            ]
          },
          "metadata": {},
          "execution_count": 37
        }
      ]
    },
    {
      "cell_type": "code",
      "metadata": {
        "id": "fnNcNIJqj42-"
      },
      "source": [
        "# import numpy as np\n",
        "# num_epochs = 100\n",
        "# loss_func = nn.BCELoss()\n",
        "# opt_func = torch.optim.Adam(model.parameters(), lr=1e-3)\n",
        "\n",
        "# for epoch in range(num_epochs):\n",
        "    \n",
        "#     for i,l in train_dl:\n",
        "\n",
        "#         res = []\n",
        "        \n",
        "#         for _ in l:\n",
        "#             z = np.zeros(10)\n",
        "#             z[int(_)] = 1\n",
        "#             res.append(z.astype(np.float32))\n",
        "        \n",
        "#         i = i.to(device)\n",
        "        \n",
        "#         pred = model(i)\n",
        "        \n",
        "#         res = torch.Tensor(res)\n",
        "#         res = res.to(device)\n",
        "        \n",
        "#         loss = loss_func(pred.to(device), res)\n",
        "#         loss.backward()\n",
        "        \n",
        "#         opt_func.step()\n",
        "#         opt_func.zero_grad()\n",
        "    \n",
        "#     with torch.no_grad():\n",
        "#         x = 0\n",
        "#         for i,l in test_dl:\n",
        "#             i = i.to(device)\n",
        "#             preds_ = model(i)\n",
        "#             for j in range(len(preds_)):\n",
        "#                 if preds_[j].max()==preds_[j][l[j].item()]:\n",
        "#                     x += 1\n",
        "#         accuracy = x/len(test_ds)\n",
        "#         print(f'{accuracy*100}, {epoch+1}, {loss}')"
      ],
      "execution_count": null,
      "outputs": []
    },
    {
      "cell_type": "code",
      "metadata": {
        "id": "bycoACjZIgIM"
      },
      "source": [
        "import matplotlib.pyplot as plt\n",
        "import cv2"
      ],
      "execution_count": 56,
      "outputs": []
    },
    {
      "cell_type": "code",
      "metadata": {
        "id": "xi3BZ52jJeYz"
      },
      "source": [
        "def pred(path):\n",
        "    q = path\n",
        "    img = cv2.imread(q, 1)\n",
        "    plt.imshow(img)\n",
        "    img = cv2.resize(img, (32,32))\n",
        "    img_arr = np.asarray(img).astype(np.float32)\n",
        "    img_tensor = torch.Tensor(img_arr)\n",
        "    img_tensor = img_tensor/255\n",
        "    img_tensor = img_tensor.permute(2,0,1)\n",
        "    img_tensor = img_tensor.unsqueeze(0)\n",
        "    img_tensor = img_tensor.to(device)\n",
        "    pred = model(img_tensor)\n",
        "    _,pred = torch.max(pred, dim=1)\n",
        "    print(train_ds.classes[pred[0].item()])"
      ],
      "execution_count": 70,
      "outputs": []
    },
    {
      "cell_type": "code",
      "metadata": {
        "colab": {
          "base_uri": "https://localhost:8080/",
          "height": 284
        },
        "id": "X3d52ixkJiBD",
        "outputId": "050a5d1b-2cd6-4bfb-e3a5-f97c9a126c71"
      },
      "source": [
        "pred(r'/content/data/cifar10/test/deer/0041.png')"
      ],
      "execution_count": 79,
      "outputs": [
        {
          "output_type": "stream",
          "name": "stdout",
          "text": [
            "deer\n"
          ]
        },
        {
          "output_type": "display_data",
          "data": {
            "image/png": "[encoded data removed]",
            "text/plain": [
              "<Figure size 432x288 with 1 Axes>"
            ]
          },
          "metadata": {
            "needs_background": "light"
          }
        }
      ]
    }
  ]
}