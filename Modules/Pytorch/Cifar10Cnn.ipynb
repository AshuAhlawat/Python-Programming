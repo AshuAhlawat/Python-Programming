{
  "nbformat": 4,
  "nbformat_minor": 2,
  "metadata": {
    "colab": {
      "name": "Cifar10Cnn.ipynb",
      "provenance": []
    },
    "kernelspec": {
      "name": "python3",
      "display_name": "Python 3.9.0 64-bit"
    },
    "language_info": {
      "name": "python",
      "version": "3.9.0",
      "mimetype": "text/x-python",
      "codemirror_mode": {
        "name": "ipython",
        "version": 3
      },
      "pygments_lexer": "ipython3",
      "nbconvert_exporter": "python",
      "file_extension": ".py"
    },
    "accelerator": "GPU",
    "interpreter": {
      "hash": "247ab06e135bb35fa78c5eff31b2a9a0050dcb5fb773c2631d2a29ac689eeccb"
    }
  },
  "cells": [
    {
      "cell_type": "code",
      "execution_count": 75,
      "source": [
        "# from torchvision.datasets.utils import download_url "
      ],
      "outputs": [],
      "metadata": {
        "id": "tEuP1Xld3q2m"
      }
    },
    {
      "cell_type": "code",
      "execution_count": 76,
      "source": [
        "# url = \"https://s3.amazonaws.com/fast-ai-imageclas/cifar10.tgz\"\r\n",
        "# download_url(url, '/content/drive/MyDrive')"
      ],
      "outputs": [],
      "metadata": {
        "id": "e_BJDTc3_R9T"
      }
    },
    {
      "cell_type": "code",
      "execution_count": 77,
      "source": [
        "import tarfile"
      ],
      "outputs": [],
      "metadata": {
        "id": "x9TTDM8gABTs"
      }
    },
    {
      "cell_type": "code",
      "execution_count": 78,
      "source": [
        "# path_drive = '/gdrive/MyDrive/cifar10.tgz'\r\n",
        "# with tarfile.open(path_drive, 'r:gz') as t:\r\n",
        "#     t.extractall('./data')"
      ],
      "outputs": [],
      "metadata": {
        "id": "Qen-Nq5BAY7D"
      }
    },
    {
      "cell_type": "code",
      "execution_count": 79,
      "source": [
        "# import os"
      ],
      "outputs": [],
      "metadata": {
        "id": "RYPzMI_zCTxS"
      }
    },
    {
      "cell_type": "code",
      "execution_count": 80,
      "source": [
        "# path = './data/cifar10'\r\n",
        "# print(os.listdir(path))"
      ],
      "outputs": [],
      "metadata": {
        "colab": {
          "base_uri": "https://localhost:8080/"
        },
        "id": "UhCTknIDCVGa",
        "outputId": "93f9e903-699a-4fe2-edf2-8fe7c4e0a21a"
      }
    },
    {
      "cell_type": "code",
      "execution_count": 81,
      "source": [
        "from torchvision.transforms import ToTensor\r\n",
        "from torchvision.datasets import ImageFolder"
      ],
      "outputs": [],
      "metadata": {
        "id": "8GOnDgAqCsdj"
      }
    },
    {
      "cell_type": "code",
      "execution_count": 82,
      "source": [
        "# train_path = path + '/train'\r\n",
        "# test_path = path + '/test'\r\n",
        "\r\n",
        "# train_ds = ImageFolder(train_path, transform= ToTensor())\r\n",
        "# test_ds = ImageFolder(test_path, transform= ToTensor())"
      ],
      "outputs": [],
      "metadata": {
        "id": "lWFQrqE_C5Aq"
      }
    },
    {
      "cell_type": "code",
      "execution_count": 83,
      "source": [
        "from torch.utils.data import random_split"
      ],
      "outputs": [],
      "metadata": {
        "id": "0O7fDs-6D87A"
      }
    },
    {
      "cell_type": "code",
      "execution_count": 84,
      "source": [
        "# train_ds, _ = random_split(train_ds, [50000,0])"
      ],
      "outputs": [],
      "metadata": {
        "id": "3XC8X8EQEQtq"
      }
    },
    {
      "cell_type": "code",
      "execution_count": 85,
      "source": [
        "# from torch.utils.data import DataLoader"
      ],
      "outputs": [],
      "metadata": {
        "id": "RyPjt3cIEe67"
      }
    },
    {
      "cell_type": "code",
      "execution_count": 86,
      "source": [
        "# train_dl = DataLoader(train_ds, 100)"
      ],
      "outputs": [],
      "metadata": {
        "id": "jO9A_l0UEmj6"
      }
    },
    {
      "cell_type": "code",
      "execution_count": 87,
      "source": [
        "import torch.nn as nn"
      ],
      "outputs": [],
      "metadata": {
        "id": "MrJl2A2BFQYi"
      }
    },
    {
      "cell_type": "code",
      "execution_count": 88,
      "source": [
        "class Cifar10Model(nn.Module):\r\n",
        "    def __init__(self):\r\n",
        "        super().__init__()\r\n",
        "        self.conv_net = nn.Sequential(\r\n",
        "            nn.Conv2d(3,16, kernel_size=3, stride=1, padding=1),\r\n",
        "            nn.ReLU(),\r\n",
        "            nn.MaxPool2d(2,2), #output 16 x 16 x 16\r\n",
        "            \r\n",
        "            nn.Conv2d(16,32,kernel_size=3, stride=1, padding=1),\r\n",
        "            nn.ReLU(),\r\n",
        "            nn.MaxPool2d(2,2), #output 32 x 8 x 8\r\n",
        "\r\n",
        "            nn.Conv2d(32,64, kernel_size=3, stride=1, padding=1),\r\n",
        "            nn.ReLU(),\r\n",
        "            nn.MaxPool2d(2,2), #output 64 x 4 x 4\r\n",
        "\r\n",
        "            nn.Flatten(),\r\n",
        "            nn.Linear(64*4*4, 256),\r\n",
        "            nn.ReLU(),\r\n",
        "            nn.Linear(256,64),\r\n",
        "            nn.ReLU(),\r\n",
        "            nn.Linear(64, 10)\r\n",
        "        )\r\n",
        "    def forward(self,x):\r\n",
        "        out = torch.softmax(self.conv_net(x), dim=-1)\r\n",
        "        return out"
      ],
      "outputs": [],
      "metadata": {
        "id": "gy2ln5mIFHgf"
      }
    },
    {
      "cell_type": "code",
      "execution_count": 89,
      "source": [
        "model = Cifar10Model()"
      ],
      "outputs": [],
      "metadata": {
        "id": "GIV0zylxGv_5"
      }
    },
    {
      "cell_type": "code",
      "execution_count": 90,
      "source": [
        "import torch"
      ],
      "outputs": [],
      "metadata": {
        "id": "AJ_Tz3pGHQYC"
      }
    },
    {
      "cell_type": "code",
      "execution_count": 91,
      "source": [
        "loss_func = nn.BCELoss()\r\n",
        "opt_func = torch.optim.SGD(model.parameters(), lr=3e-2)"
      ],
      "outputs": [],
      "metadata": {
        "id": "W2XXXBPHG-GJ"
      }
    },
    {
      "cell_type": "code",
      "execution_count": 92,
      "source": [
        "import numpy as np"
      ],
      "outputs": [],
      "metadata": {
        "id": "QYzttdn1Jgio"
      }
    },
    {
      "cell_type": "code",
      "execution_count": 93,
      "source": [
        "device = torch.device('cuda' if torch.cuda.is_available() else 'cpu')"
      ],
      "outputs": [],
      "metadata": {
        "id": "alujUoDvNETV"
      }
    },
    {
      "cell_type": "code",
      "execution_count": 94,
      "source": [
        "# num_epochs = 150\r\n",
        "# model = model.to(device)\r\n",
        "# for epoch in range(num_epochs):\r\n",
        "#     for img, labels in train_dl:\r\n",
        "#         hot_result = []\r\n",
        "#         for label in labels:\r\n",
        "#             z = np.zeros(10)\r\n",
        "#             z[int(label)] = 1\r\n",
        "#             hot_result.append(z.astype(np.float32))\r\n",
        "        \r\n",
        "#         img = img.to(device)\r\n",
        "#         pred = model(img)\r\n",
        "#         hot_result = torch.tensor(hot_result)\r\n",
        "#         hot_result = hot_result.to(device)\r\n",
        "#         loss = loss_func(pred, hot_result)\r\n",
        "#         loss.backward()\r\n",
        "#         opt_func.step()\r\n",
        "#         opt_func.zero_grad()\r\n",
        "#     pred_arr = torch.argmax(pred, 1)\r\n",
        "#     result_arr = torch.argmax(hot_result, 1)\r\n",
        "#     accuracy = torch.sum(pred_arr == result_arr).item()/len(pred_arr)\r\n",
        "#     print(f'Accuracy: {accuracy*100}%, epoch: {epoch+1}, loss: {loss}, device: {device}')\r\n",
        "#     if accuracy >= 0.9:\r\n",
        "#         break"
      ],
      "outputs": [],
      "metadata": {
        "colab": {
          "base_uri": "https://localhost:8080/"
        },
        "id": "xLN8Q0fdHNx5",
        "outputId": "6d2e43dc-a268-428d-d158-e1482c1dc443"
      }
    },
    {
      "cell_type": "code",
      "execution_count": 95,
      "source": [
        "torch.save(model.state_dict(), 'Cifar10Cnn.pth')"
      ],
      "outputs": [],
      "metadata": {
        "id": "DFXrMgxA7hyJ"
      }
    },
    {
      "cell_type": "code",
      "execution_count": 96,
      "source": [
        "import matplotlib.pyplot as plt\r\n",
        "%matplotlib inline"
      ],
      "outputs": [],
      "metadata": {
        "id": "1p_9RHWp3zYb"
      }
    },
    {
      "cell_type": "code",
      "execution_count": 97,
      "source": [
        "# img, label = test_ds[9059]\r\n",
        "# plt.imshow(img.permute(1,2,0))\r\n",
        "# img = img.unsqueeze(0)\r\n",
        "# img = img.to(device)\r\n",
        "# test_pred = model(img)\r\n",
        "# _,res = torch.max(test_pred, dim=1)\r\n",
        "# print(test_ds.classes[res[0].item()])\r\n",
        "# print(test_ds.classes[label])"
      ],
      "outputs": [],
      "metadata": {
        "colab": {
          "base_uri": "https://localhost:8080/",
          "height": 300
        },
        "id": "ThZV8svM10RP",
        "outputId": "9a78c75f-eec0-4069-d470-73a9d2a57061"
      }
    },
    {
      "cell_type": "code",
      "execution_count": 98,
      "source": [
        "\r\n",
        "new_model = Cifar10Model()\r\n",
        "new_model.load_state_dict(torch.load(r'C:\\Users\\user\\Downloads\\Cifar10Cnn.pth'))"
      ],
      "outputs": [
        {
          "output_type": "execute_result",
          "data": {
            "text/plain": [
              "<All keys matched successfully>"
            ]
          },
          "metadata": {},
          "execution_count": 98
        }
      ],
      "metadata": {}
    },
    {
      "cell_type": "code",
      "execution_count": 99,
      "source": [
        "import cv2"
      ],
      "outputs": [],
      "metadata": {}
    },
    {
      "cell_type": "code",
      "execution_count": 100,
      "source": [
        "img = r'C:\\Users\\user\\Downloads\\dog2.jpg'\r\n",
        "img = cv2.imread(img,1)\r\n",
        "img_arr = np.asarray(img).astype(np.float32)\r\n",
        "img_tensor = torch.Tensor(img_arr)\r\n",
        "img_tensor = img_tensor/255\r\n",
        "img_tensor=img_tensor.permute(2,0,1)\r\n",
        "img_tensor = img_tensor.unsqueeze(0)\r\n",
        "pred = new_model(img_tensor)\r\n",
        "pred = torch.argmax(pred)\r\n",
        "pred\r\n",
        "\r\n",
        "\r\n"
      ],
      "outputs": [
        {
          "output_type": "execute_result",
          "data": {
            "text/plain": [
              "tensor(5)"
            ]
          },
          "metadata": {},
          "execution_count": 100
        }
      ],
      "metadata": {}
    }
  ]
}